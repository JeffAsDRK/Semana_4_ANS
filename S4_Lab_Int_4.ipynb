{
 "cells": [
  {
   "cell_type": "markdown",
   "metadata": {
    "id": "Z2Af5lc5fykU"
   },
   "source": [
    "# Laboratorio Integrador #4\n",
    "\n",
    "En el siguiente laboratorio analizaremos dos casos de estudios diferentes:\n",
    "\n",
    "1.   Análisis de Electrocardiogramas (ECG) usando técnicas no supervisadas (time series clustering - kshape algorithm) en un dataset de baja numerosidad\n",
    "2.   Análisis de propagación de estiquetas usando técnicas semisupervisadas (label propagation, label spreading) en un dataset de baja numerosidad.\n",
    "\n",
    "Objetivo:\n",
    "*   Aplicar el k-shape algorithm sobre un dataset de ECG de baja dimensionalidad y determinar la efectividad de la clusterización basado en la forma.\n",
    "*   Aplicar varias técnicas semisuvrersidad par etiquetar un dataset de baja numerosidad y medir el desempeño del etiquetado.\n",
    "*   Presentar un análisis de desepeño de clasificación para cada caso de estudio.\n",
    "\n",
    "*Caso estudio del k-shape:*\n",
    "1.   Tarea individual.\n",
    "2.   Implementar una arquitectura k-shape y aplicarla al dataset  ECG200 (200 instancias y 2 clases) (https://www.timeseriesclassification.com/description.php?Dataset=ECG200).\n",
    "3.   Realizar un flujo experimental que permita entrenar el modelo y evaluar la calidad de clusterización en el entrenamiento y en el test externo.\n",
    "4.   Realizar un análisis de resultados de entrenamiento y prueba (viualizar los clusters, métricas no supervisadas y algunas supervisadas).\n",
    "5.   Subir a la carpeta de trabajo en el D2L, el cuaderno desarrollado.\n",
    "\n",
    "*Caso estudio del label propagation and spreading:*\n",
    "1.   Tarea individual.\n",
    "2.   Implementar las arquitecturas label propagation and spreading y aplicarla al dataset  *Letter Recognition* (800 approx. instancias por clase) y 26 clases (A-Z) (https://archive.ics.uci.edu/dataset/59/letter+recognition). Del dataset presentado, escoger 5 clases aleatorias para minimizar el impacto de clasificación multiclase. Procesar el dataset para dejar sólo 10 puntos etiquetados por clase (5 clases aleatorias).\n",
    "3.   Aplicar los modelos de label propagation and spreading al dataset preprocesado y visualizar los resultados de propagación usando una técnica T-SNE en dos dimensionaes.\n",
    "4.   Entrenar un modelo de clasifiación supervisado con el nuevo dataset etiquetado y medir el desempeño de clasificación. Esto es un problema de clasificación multiclase.\n",
    "5.   Realizar un análisis de resultados entre los modelos de etiquetado.\n",
    "6.   Subir a la carpeta de trabajo en el D2L, el cuaderno desarrollado.\n",
    "\n",
    "+1punto: Aplicar y Clasificar la propagación de etiquetas en un espacio latente reducido por AEs o técnicas no lineales. \n",
    "\n",
    "Valor:\n",
    "*   25 puntos (14.5 por cada caso estudio)\n",
    "\n",
    "Penalizaciones:\n",
    "*   Cualquier error de implementación o concepto, se penalizará con -1 punto (acumulativo).\n",
    "*   La no realización de la implementación y aplicación se penalizará con el 40%\n",
    "*   La no realización de un análisis de discusión de resultados se penalizará con el 40%\n",
    "*   La no realización conclusiones se penalizará con el 20%\n",
    "*   La no realización de la entrega de la actividad se penalizará con el 100%\n"
   ]
  },
  {
   "cell_type": "code",
   "execution_count": 1,
   "metadata": {
    "colab": {
     "base_uri": "https://localhost:8080/"
    },
    "id": "ZuRTc0WOHKMy",
    "outputId": "5646f31e-b6fb-4ce7-d575-a00189cdd9f4"
   },
   "outputs": [
    {
     "name": "stdout",
     "output_type": "stream",
     "text": [
      "Collecting tslearn\n",
      "  Downloading tslearn-0.6.3-py3-none-any.whl (374 kB)\n",
      "\u001b[2K     \u001b[90m━━━━━━━━━━━━━━━━━━━━━━━━━━━━━━━━━━━━━━━━\u001b[0m \u001b[32m374.4/374.4 kB\u001b[0m \u001b[31m4.0 MB/s\u001b[0m eta \u001b[36m0:00:00\u001b[0m\n",
      "\u001b[?25hRequirement already satisfied: numpy in /usr/local/lib/python3.10/dist-packages (from tslearn) (1.25.2)\n",
      "Requirement already satisfied: scipy in /usr/local/lib/python3.10/dist-packages (from tslearn) (1.11.4)\n",
      "Requirement already satisfied: scikit-learn in /usr/local/lib/python3.10/dist-packages (from tslearn) (1.2.2)\n",
      "Requirement already satisfied: numba in /usr/local/lib/python3.10/dist-packages (from tslearn) (0.58.1)\n",
      "Requirement already satisfied: joblib in /usr/local/lib/python3.10/dist-packages (from tslearn) (1.4.2)\n",
      "Requirement already satisfied: llvmlite<0.42,>=0.41.0dev0 in /usr/local/lib/python3.10/dist-packages (from numba->tslearn) (0.41.1)\n",
      "Requirement already satisfied: threadpoolctl>=2.0.0 in /usr/local/lib/python3.10/dist-packages (from scikit-learn->tslearn) (3.5.0)\n",
      "Installing collected packages: tslearn\n",
      "Successfully installed tslearn-0.6.3\n"
     ]
    }
   ],
   "source": [
    "!pip install tslearn"
   ]
  },
  {
   "cell_type": "code",
   "execution_count": null,
   "metadata": {
    "id": "3N4jzc5SG4TU"
   },
   "outputs": [],
   "source": [
    "import numpy as np\n",
    "import matplotlib.pyplot as plt\n",
    "from tslearn.clustering import KShape\n",
    "from tslearn.preprocessing import TimeSeriesScalerMeanVariance\n",
    "from tslearn.utils import to_time_series_dataset"
   ]
  },
  {
   "cell_type": "markdown",
   "metadata": {},
   "source": [
    "### Load data and exploration"
   ]
  },
  {
   "cell_type": "code",
   "execution_count": null,
   "metadata": {
    "id": "ZaBmbh3OfVqq"
   },
   "outputs": [],
   "source": [
    "# Cargar los datasets\n"
   ]
  },
  {
   "cell_type": "code",
   "execution_count": null,
   "metadata": {
    "id": "DnkspG9IHH_b"
   },
   "outputs": [],
   "source": [
    "# Estadísticas básicas de los datasets \n"
   ]
  },
  {
   "cell_type": "markdown",
   "metadata": {
    "id": "Nac0zl0mHUiJ"
   },
   "source": [
    "### Caso estudio 1: Clusterización en series temporales"
   ]
  },
  {
   "cell_type": "code",
   "execution_count": null,
   "metadata": {},
   "outputs": [],
   "source": []
  },
  {
   "cell_type": "markdown",
   "metadata": {},
   "source": [
    "#### Análisis de resultados"
   ]
  },
  {
   "cell_type": "code",
   "execution_count": null,
   "metadata": {},
   "outputs": [],
   "source": []
  },
  {
   "cell_type": "markdown",
   "metadata": {},
   "source": [
    "#### Conclusiones"
   ]
  },
  {
   "cell_type": "markdown",
   "metadata": {
    "id": "1BqqK6vQHauF"
   },
   "source": [
    "### Caso estudio 2: Propagacíon de etiquetas semi-supervisada"
   ]
  },
  {
   "cell_type": "code",
   "execution_count": null,
   "metadata": {
    "id": "7LAh6RixHeYZ"
   },
   "outputs": [],
   "source": []
  },
  {
   "cell_type": "markdown",
   "metadata": {},
   "source": [
    "#### Análisis de resultados"
   ]
  },
  {
   "cell_type": "code",
   "execution_count": null,
   "metadata": {},
   "outputs": [],
   "source": []
  },
  {
   "cell_type": "markdown",
   "metadata": {},
   "source": [
    "#### Conclusiones"
   ]
  },
  {
   "cell_type": "markdown",
   "metadata": {},
   "source": [
    "## +1 Punto"
   ]
  }
 ],
 "metadata": {
  "colab": {
   "provenance": [],
   "toc_visible": true
  },
  "kernelspec": {
   "display_name": "Python 3",
   "name": "python3"
  },
  "language_info": {
   "name": "python"
  }
 },
 "nbformat": 4,
 "nbformat_minor": 0
}
